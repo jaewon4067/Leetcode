import random
from typing import Dict, List

class RandomizedSet:
    def __init__(self):
        # arr: stores the actual values
        # val_to_idx: maps a value to its index inside arr # key is val / val is idx
        
        self.arr: List[int] = []
        self.val_to_idx: Dict[int, int] = {}

    def insert(self, val: int) -> bool:
        # If val already exists, do nothing
        if val in self.val_to_idx:
            return False
        # Append to the end and record its index
        self.arr.append(val)
        self.val_to_idx[val] = len(self.arr) - 1
        return True

    def remove(self, val: int) -> bool:
        # If val does not exist, nothing to remove
        if val not in self.val_to_idx:
            return False

        # Index of the value to remove
        idx = self.val_to_idx[val]
        # Last value in the array
        last_val = self.arr[-1]

        # Move last_val into idx to keep deletion O(1)
        self.arr[idx] = last_val
        self.val_to_idx[last_val] = idx

        # Remove the last element (now duplicated) and delete mapping for val
        self.arr.pop()
        del self.val_to_idx[val]
        return True

    def getRandom(self) -> int:
        # Pick a random index uniformly and return the value
        idx = random.randint(0, len(self.arr) - 1)
        return self.arr[idx]
